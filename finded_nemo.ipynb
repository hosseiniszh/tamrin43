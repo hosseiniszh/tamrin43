{
 "cells": [
  {
   "cell_type": "code",
   "execution_count": 2,
   "metadata": {},
   "outputs": [],
   "source": [
    "import cv2\n",
    "import numpy as np\n",
    "import matplotlib.pyplot as plt\n",
    "from mpl_toolkits.mplot3d import Axes3D\n",
    "\n",
    "%matplotlib qt\n",
    "from KNN import KNN"
   ]
  },
  {
   "cell_type": "code",
   "execution_count": 3,
   "metadata": {},
   "outputs": [],
   "source": [
    "\n",
    "\n",
    "# Load and preprocess the image\n",
    "nemo = cv2.imread('image2.jpeg')\n",
    "nemo = cv2.resize(nemo, (0, 0), fx=0.25, fy=0.25)\n",
    "nemo = cv2.cvtColor(nemo, cv2.COLOR_BGR2RGB)\n",
    "\n",
    "# Show the original image\n",
    "plt.imshow(nemo)\n",
    "plt.title('Nemo Image')\n",
    "plt.show()\n",
    "\n",
    "# Reshape the image to a 2D array of pixels (rows, columns, channels)\n",
    "pixels_list = nemo.reshape(-1, 3)\n",
    "\n",
    "# Create a 3D scatter plot\n",
    "fig = plt.figure(figsize=(8, 8))\n",
    "ax = fig.add_subplot(projection='3d')\n",
    "\n",
    "# Extract RGB components\n",
    "r, g, b = pixels_list[:, 0], pixels_list[:, 1], pixels_list[:, 2]\n",
    "\n",
    "# Create the scatter plot with RGB colors\n",
    "ax.scatter(r, g, b, c=pixels_list / 255 , marker='.', alpha=0.5)\n",
    "\n",
    "# Set axis labels\n",
    "ax.set_xlabel('Hue')\n",
    "ax.set_ylabel('Saturation')\n",
    "ax.set_zlabel('Value')\n",
    "\n",
    "# Set the plot title\n",
    "ax.set_title('Pixel Colors of Nemo Image')\n",
    "\n",
    "# Show the 3D scatter plot\n",
    "plt.show()"
   ]
  },
  {
   "cell_type": "code",
   "execution_count": 4,
   "metadata": {},
   "outputs": [],
   "source": [
    "nemo_hsv = cv2.cvtColor(nemo, cv2.COLOR_RGB2HSV)\n",
    "\n",
    "# Show the image\n",
    "plt.imshow(nemo_hsv)\n",
    "plt.title('Nemo_hsv Image')\n",
    "plt.show()\n",
    "\n",
    "# Reshape the image to a 2D array of pixels (rows, columns, channels)\n",
    "pixels_list_hsv = nemo_hsv.reshape(-1, 3)\n",
    "\n",
    "# Create a 3D scatter plot\n",
    "fig = plt.figure(figsize=(8, 8))\n",
    "ax = fig.add_subplot(projection='3d')\n",
    "\n",
    "# Extract RGB components\n",
    "r, g, b = pixels_list_hsv[:, 0], pixels_list_hsv[:, 1], pixels_list_hsv[:, 2]\n",
    "\n",
    "# Create the scatter plot with RGB colors\n",
    "ax.scatter(r, g, b, c=pixels_list /255 , marker='.', alpha=0.5)\n",
    "\n",
    "# Set axis labels\n",
    "ax.set_xlabel('Red')\n",
    "ax.set_ylabel('Green')\n",
    "ax.set_zlabel('Blue')\n",
    "\n",
    "# Set the plot title\n",
    "ax.set_title('Pixel Colors of Nemo_hsv Image')\n",
    "\n",
    "# Show the 3D scatter plot\n",
    "plt.show()"
   ]
  },
  {
   "cell_type": "code",
   "execution_count": 5,
   "metadata": {},
   "outputs": [],
   "source": [
    "# Define the orange color range in HSV\n",
    "light_orange = (1, 190, 200)\n",
    "dark_orange = (18, 255, 255)\n",
    "\n",
    "# Define the white color range in HSV\n",
    "light_white = (0, 0, 200)\n",
    "dark_white = (145, 60, 255)\n",
    "\n",
    "\n",
    "# Create a binary mask within the specified orange color range\n",
    "mask = cv2.inRange(nemo_hsv, light_orange, dark_orange)\n",
    "\n",
    "# Create a binary mask within the specified white color range\n",
    "mask_white = cv2.inRange(nemo_hsv, light_white, dark_white)\n",
    "\n",
    "# Combine the masks for orange and white regions using logical OR\n",
    "final_mask = mask + mask_white\n",
    "\n",
    "# Apply the combined mask to the original image to get the final result\n",
    "final_result = cv2.bitwise_and(nemo, nemo, mask=final_mask)\n",
    "\n",
    "# Plot the results\n",
    "plt.subplot(1, 2, 1)\n",
    "plt.imshow(final_mask, cmap=\"gray\")\n",
    "plt.title('Binary Mask (Orange and White)')\n",
    "plt.subplot(1, 2, 2)\n",
    "plt.imshow(final_result)\n",
    "plt.title('Filtered Nemo Image')\n",
    "plt.show()"
   ]
  },
  {
   "cell_type": "code",
   "execution_count": 6,
   "metadata": {},
   "outputs": [
    {
     "data": {
      "text/plain": [
       "(35728, 3)"
      ]
     },
     "execution_count": 6,
     "metadata": {},
     "output_type": "execute_result"
    }
   ],
   "source": [
    "X_train = pixels_list_hsv / 255\n",
    "X_train.shape"
   ]
  },
  {
   "cell_type": "code",
   "execution_count": 7,
   "metadata": {},
   "outputs": [
    {
     "data": {
      "text/plain": [
       "(35728,)"
      ]
     },
     "execution_count": 7,
     "metadata": {},
     "output_type": "execute_result"
    }
   ],
   "source": [
    "Y_train = final_mask.reshape(-1,) // 255\n",
    "Y_train.shape"
   ]
  },
  {
   "cell_type": "code",
   "execution_count": 8,
   "metadata": {},
   "outputs": [],
   "source": [
    "knn = KNN(3)\n",
    "knn.fit(X_train, Y_train)"
   ]
  },
  {
   "cell_type": "code",
   "execution_count": 9,
   "metadata": {},
   "outputs": [
    {
     "data": {
      "text/plain": [
       "array([0], dtype=int64)"
      ]
     },
     "execution_count": 9,
     "metadata": {},
     "output_type": "execute_result"
    }
   ],
   "source": [
    "new_pixel = np.array([100, 100, 0]) / 255\n",
    "knn.predict([new_pixel])"
   ]
  },
  {
   "cell_type": "code",
   "execution_count": 10,
   "metadata": {},
   "outputs": [
    {
     "data": {
      "text/plain": [
       "<function matplotlib.pyplot.show(*, block=None)>"
      ]
     },
     "execution_count": 10,
     "metadata": {},
     "output_type": "execute_result"
    }
   ],
   "source": [
    "dashe_nemo = cv2.imread('image0.jpeg')\n",
    "dashe_nemo = cv2.resize(dashe_nemo, (0, 0), fx = 0.25, fy = 0.25)\n",
    "dashe_nemo = cv2.cvtColor(dashe_nemo, cv2.COLOR_BGR2RGB)\n",
    "plt.imshow(dashe_nemo)\n",
    "plt.show"
   ]
  },
  {
   "cell_type": "code",
   "execution_count": 11,
   "metadata": {},
   "outputs": [
    {
     "data": {
      "text/plain": [
       "(89, 160, 3)"
      ]
     },
     "execution_count": 11,
     "metadata": {},
     "output_type": "execute_result"
    }
   ],
   "source": [
    "dashe_nemo_hsv = cv2.cvtColor(dashe_nemo, cv2.COLOR_RGB2HSV)\n",
    "dashe_nemo_hsv.shape"
   ]
  },
  {
   "cell_type": "code",
   "execution_count": 12,
   "metadata": {},
   "outputs": [
    {
     "data": {
      "text/plain": [
       "(14240, 3)"
      ]
     },
     "execution_count": 12,
     "metadata": {},
     "output_type": "execute_result"
    }
   ],
   "source": [
    "X_test = dashe_nemo_hsv.reshape(-1, 3)/255\n",
    "X_test.shape"
   ]
  },
  {
   "cell_type": "code",
   "execution_count": 13,
   "metadata": {},
   "outputs": [],
   "source": [
    "Y_pred = knn.predict(X_test)"
   ]
  },
  {
   "cell_type": "code",
   "execution_count": 14,
   "metadata": {},
   "outputs": [],
   "source": [
    "output = Y_pred.reshape(dashe_nemo.shape[:2])\n",
    "plt.imshow(output, cmap = 'gray')\n",
    "plt.show()"
   ]
  },
  {
   "cell_type": "code",
   "execution_count": 15,
   "metadata": {},
   "outputs": [
    {
     "data": {
      "text/plain": [
       "<function matplotlib.pyplot.show(*, block=None)>"
      ]
     },
     "execution_count": 15,
     "metadata": {},
     "output_type": "execute_result"
    }
   ],
   "source": [
    "abji_nemo = cv2.imread('image1.jpeg')\n",
    "abji_nemo = cv2.resize(abji_nemo, (0, 0), fx = 0.1, fy = 0.1)\n",
    "abji_nemo = cv2.cvtColor(abji_nemo, cv2.COLOR_BGR2RGB)\n",
    "plt.imshow(abji_nemo)\n",
    "plt.show"
   ]
  },
  {
   "cell_type": "code",
   "execution_count": 16,
   "metadata": {},
   "outputs": [
    {
     "data": {
      "text/plain": [
       "(133, 200, 3)"
      ]
     },
     "execution_count": 16,
     "metadata": {},
     "output_type": "execute_result"
    }
   ],
   "source": [
    "abji_nemo_hsv = cv2.cvtColor(abji_nemo, cv2.COLOR_RGB2HSV)\n",
    "abji_nemo_hsv.shape"
   ]
  },
  {
   "cell_type": "code",
   "execution_count": null,
   "metadata": {},
   "outputs": [],
   "source": [
    "X_test = abji_nemo_hsv.reshape(-1, 3)/255"
   ]
  },
  {
   "cell_type": "code",
   "execution_count": null,
   "metadata": {},
   "outputs": [],
   "source": [
    "Y_pred = knn.predict(X_test)"
   ]
  },
  {
   "cell_type": "code",
   "execution_count": null,
   "metadata": {},
   "outputs": [],
   "source": [
    "output = Y_pred.reshape(abji_nemo.shape[:2])\n",
    "plt.imshow(output, cmap = 'gray')\n",
    "plt.show()"
   ]
  }
 ],
 "metadata": {
  "kernelspec": {
   "display_name": "Python 3",
   "language": "python",
   "name": "python3"
  },
  "language_info": {
   "codemirror_mode": {
    "name": "ipython",
    "version": 3
   },
   "file_extension": ".py",
   "mimetype": "text/x-python",
   "name": "python",
   "nbconvert_exporter": "python",
   "pygments_lexer": "ipython3",
   "version": "3.11.3"
  },
  "orig_nbformat": 4
 },
 "nbformat": 4,
 "nbformat_minor": 2
}
